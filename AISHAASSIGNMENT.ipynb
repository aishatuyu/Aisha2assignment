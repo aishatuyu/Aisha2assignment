{
  "metadata": {
    "language_info": {
      "codemirror_mode": {
        "name": "python",
        "version": 3
      },
      "file_extension": ".py",
      "mimetype": "text/x-python",
      "name": "python",
      "nbconvert_exporter": "python",
      "pygments_lexer": "ipython3",
      "version": "3.8"
    },
    "kernelspec": {
      "name": "python",
      "display_name": "Pyolite",
      "language": "python"
    }
  },
  "nbformat_minor": 4,
  "nbformat": 4,
  "cells": [
    {
      "cell_type": "markdown",
      "source": "AISHAASSIGNMENT",
      "metadata": {}
    },
    {
      "cell_type": "markdown",
      "source": "Data science tools are used for diving into raw and complicated data (unstructured or structured data) and processing, extracting, and analyzing it to dig out valuable insights by applying different data processing techniques such as statistics, computer science, predictive modeling and analysis, and deep learning.",
      "metadata": {}
    },
    {
      "cell_type": "markdown",
      "source": "\n1. R\n3. Julia\n5. JavaScript\n4. Scala\n2. Java",
      "metadata": {}
    },
    {
      "cell_type": "markdown",
      "source": "1. SciKit-Learn. ...\n5. PyTorch. ...\n3. Pycaret. ...\n2. TensorFlow. ...\n4. Requests.",
      "metadata": {}
    },
    {
      "cell_type": "markdown",
      "source": "|SerialNumber|Tools|\n|------------|-----|\n|1|R|\n|2|julia|\n|3|javascript|\n|4|Scala|\n|5|java|",
      "metadata": {}
    },
    {
      "cell_type": "code",
      "source": "1 + 2 + 3 + 4 + 5",
      "metadata": {
        "trusted": true
      },
      "execution_count": 7,
      "outputs": [
        {
          "execution_count": 7,
          "output_type": "execute_result",
          "data": {
            "text/plain": "15"
          },
          "metadata": {}
        }
      ]
    },
    {
      "cell_type": "code",
      "source": "",
      "metadata": {},
      "execution_count": null,
      "outputs": []
    },
    {
      "cell_type": "code",
      "source": "2 * 2",
      "metadata": {
        "trusted": true
      },
      "execution_count": 8,
      "outputs": [
        {
          "execution_count": 8,
          "output_type": "execute_result",
          "data": {
            "text/plain": "4"
          },
          "metadata": {}
        }
      ]
    },
    {
      "cell_type": "code",
      "source": "convert Minutes to Hours\nminute = hours*60\nseconds = hours*3600",
      "metadata": {
        "trusted": true
      },
      "execution_count": 9,
      "outputs": [
        {
          "ename": "<class 'SyntaxError'>",
          "evalue": "invalid syntax (<ipython-input-9-a19be864f7d1>, line 1)",
          "traceback": [
            "\u001b[0;36m  Cell \u001b[0;32mIn[9], line 1\u001b[0;36m\u001b[0m\n\u001b[0;31m    convert Minutes to Hours\u001b[0m\n\u001b[0m            ^\u001b[0m\n\u001b[0;31mSyntaxError\u001b[0m\u001b[0;31m:\u001b[0m invalid syntax\n"
          ],
          "output_type": "error"
        }
      ]
    },
    {
      "cell_type": "markdown",
      "source": "objectives of the study\n1. To understand and Manipulate data\n3. To show data in diagrams\n2. To understand data analysis\n",
      "metadata": {}
    },
    {
      "cell_type": "markdown",
      "source": "Aishatu Yahaya Umar",
      "metadata": {}
    },
    {
      "cell_type": "code",
      "source": "",
      "metadata": {},
      "execution_count": null,
      "outputs": []
    }
  ]
}